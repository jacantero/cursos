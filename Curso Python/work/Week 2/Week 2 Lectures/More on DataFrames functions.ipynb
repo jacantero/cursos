{
 "cells": [
  {
   "cell_type": "code",
   "execution_count": null,
   "metadata": {},
   "outputs": [],
   "source": [
    "# The apply() function takes any function and applies it to a DataFrame across all rows and columns.\n",
    "def splitname(row)\n",
    "    row['First'] = row['President'].split(\" \")[0]\n",
    "    row['Last'] = row['President'].split(\" \")[-1]\n",
    "    return row\n",
    "\n",
    "df = df.apply(splitname, axis='columns')"
   ]
  },
  {
   "cell_type": "code",
   "execution_count": null,
   "metadata": {},
   "outputs": [],
   "source": [
    "# The extract() function takes a regular expression as input and specifically requires you to set capture groups that\n",
    "# correspond to the output columns you are interested in.\n",
    "pattern=\"(?P<First>^[\\w]*)(?:.*)(?P<Last>[\\w]*$)\" #We look for any string starting by any number of characters and \n",
    "                                          #replace them and put them at the back of the string\n",
    "    \n",
    "df['President'].str.extract(pattern)"
   ]
  },
  {
   "cell_type": "code",
   "execution_count": null,
   "metadata": {},
   "outputs": [],
   "source": [
    "# The str module is quite useful when cleaning strings in pandas DataFrame"
   ]
  }
 ],
 "metadata": {
  "kernelspec": {
   "display_name": "Python 3",
   "language": "python",
   "name": "python3"
  },
  "language_info": {
   "codemirror_mode": {
    "name": "ipython",
    "version": 3
   },
   "file_extension": ".py",
   "mimetype": "text/x-python",
   "name": "python",
   "nbconvert_exporter": "python",
   "pygments_lexer": "ipython3",
   "version": "3.7.3"
  }
 },
 "nbformat": 4,
 "nbformat_minor": 2
}
