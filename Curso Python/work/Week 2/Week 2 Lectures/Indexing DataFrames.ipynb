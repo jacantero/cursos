{
 "cells": [
  {
   "cell_type": "code",
   "execution_count": null,
   "metadata": {},
   "outputs": [],
   "source": [
    "# The set_index() function takes a list of columns and promotes those columns to an index. When doing so, the previous\n",
    "# indexes are destructed \n",
    "\n",
    "import pandas as pd\n",
    "df = pd.read_csv(\"../resources/datasets/Admission_Predict.csv\", index_col = 0)\n",
    "\n",
    "# We can copy the indexed data into its own column, so we don't lose this info\n",
    "df['Serial Number'] = df.index\n",
    "\n",
    "#We can set the index to another column\n",
    "df = df.set_index('Chance of Admit ')\n",
    "df.head()\n",
    "\n",
    "# reset_index() promotes the current index into a column and creates a default numbered index\n",
    "df = df.reset_index()\n",
    "df.head()\n",
    "\n",
    "#We can check how many different values are in a column\n",
    "df['Sumlev'].unique()\n",
    "\n",
    "# We can also create multi-level indexes, by creating a list of indexes and introudcing it into de set_index() function\n",
    "df = df.set_index(['STNAME','CTYNAME'])\n",
    "df.head()\n",
    "\n",
    "#Querying when multi-level indexes\n",
    "df.loc['Michigan','Washtenaw County']"
   ]
  }
 ],
 "metadata": {
  "kernelspec": {
   "display_name": "Python 3",
   "language": "python",
   "name": "python3"
  },
  "language_info": {
   "codemirror_mode": {
    "name": "ipython",
    "version": 3
   },
   "file_extension": ".py",
   "mimetype": "text/x-python",
   "name": "python",
   "nbconvert_exporter": "python",
   "pygments_lexer": "ipython3",
   "version": "3.7.3"
  }
 },
 "nbformat": 4,
 "nbformat_minor": 2
}
