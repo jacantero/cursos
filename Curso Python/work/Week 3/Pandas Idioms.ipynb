{
 "cells": [
  {
   "cell_type": "code",
   "execution_count": 1,
   "metadata": {},
   "outputs": [],
   "source": [
    "import pandas as pd\n",
    "import numpy as np\n",
    "import timeit"
   ]
  },
  {
   "cell_type": "code",
   "execution_count": null,
   "metadata": {},
   "outputs": [],
   "source": [
    "# The general idea behind chaining is that every method on an object returns a reference to that object. This \n",
    "# allows to condense many different operations on a DataFrame into one line.\n",
    "(df.where(df['SUMLEV']==50)\n",
    " .dropna()\n",
    " .set_index(['STNAME','CTYNAME'])\n",
    " .rename(columns={'ESTIMATEBASE2010': 'ESTMB2010'}))\n",
    "\n",
    "# Note that the order of execution goes from left to right, and that you need to start the statement with a parenthesis \n",
    "# if it is going to take more than one line."
   ]
  },
  {
   "cell_type": "code",
   "execution_count": null,
   "metadata": {},
   "outputs": [],
   "source": [
    "# The map function allows you to apply any other function to an iterable (such as a list)\n",
    "# The apply function does the same but through DataFrame cells.\n",
    "\n",
    "# We define our own function to determine the max and min values through columns\n",
    "def min_max(row):\n",
    "    data = row[['POPESTIMATE2010',\n",
    "               'POPESTIMATE2011',\n",
    "               'POPESTIMATE2012',\n",
    "               'POPESTIMATE2013',\n",
    "               'POPESTIMATE2014',\n",
    "               'POPESTIMATE2015']]\n",
    "    return pd.Series({'min':np.min(data), 'max': np.max(data)})\n",
    "\n",
    "df.apply(min_max, axis='columns').head()"
   ]
  },
  {
   "cell_type": "code",
   "execution_count": null,
   "metadata": {},
   "outputs": [],
   "source": [
    "# We more often see the apply() function used with lambda\n",
    "row['POPESTIMATE2010','POPESTIMATE2011','POPESTIMATE2012','POPESTIMATE2013','POPESTIMATE2014','POPESTIMATE2015']\n",
    "df.apply(lambda x:np.max(x[rows]), axis=1)"
   ]
  }
 ],
 "metadata": {
  "kernelspec": {
   "display_name": "Python 3",
   "language": "python",
   "name": "python3"
  },
  "language_info": {
   "codemirror_mode": {
    "name": "ipython",
    "version": 3
   },
   "file_extension": ".py",
   "mimetype": "text/x-python",
   "name": "python",
   "nbconvert_exporter": "python",
   "pygments_lexer": "ipython3",
   "version": "3.7.3"
  }
 },
 "nbformat": 4,
 "nbformat_minor": 2
}
