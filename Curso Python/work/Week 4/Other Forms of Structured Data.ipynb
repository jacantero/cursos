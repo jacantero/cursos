{
 "cells": [
  {
   "cell_type": "markdown",
   "metadata": {},
   "source": [
    "# Network diagram"
   ]
  },
  {
   "cell_type": "code",
   "execution_count": null,
   "metadata": {},
   "outputs": [],
   "source": [
    "# They link the nodes with edges, which can be directed or inderected.\n",
    "# We can represent this networks through adjecency matrices, and then use libraries such as NetworkX to visualize and\n",
    "# apply certain algorithms to answer interesting questions."
   ]
  },
  {
   "cell_type": "markdown",
   "metadata": {},
   "source": [
    "__Tree networks__"
   ]
  },
  {
   "cell_type": "code",
   "execution_count": null,
   "metadata": {},
   "outputs": [],
   "source": [
    "# Tree networks are networks with a hierarchy, where there's a node at the top (root) and subsequent nodes appear in\n",
    "# underneath levels, connected to the nodes above. These connections can be singular (connection with only one node above)\n",
    "# or multiple when a node is connected to various upper nodes."
   ]
  },
  {
   "cell_type": "code",
   "execution_count": null,
   "metadata": {},
   "outputs": [],
   "source": [
    "# Structures are representations that we impose in the data"
   ]
  },
  {
   "cell_type": "markdown",
   "metadata": {},
   "source": [
    "# Connected Components"
   ]
  },
  {
   "cell_type": "code",
   "execution_count": 1,
   "metadata": {},
   "outputs": [],
   "source": [
    "# You can think of Connected Components as a sorf of a hard clustering algorithm which finds clusters/islands in connected/\n",
    "#related data"
   ]
  },
  {
   "cell_type": "code",
   "execution_count": 3,
   "metadata": {},
   "outputs": [],
   "source": [
    "# Example\n",
    "import networkx as nx\n",
    "edgelist = [['Mannheim', 'Frankfurt', 85], ['Mannheim', 'Karlsruhe', 80], ['Erfurt', 'Wurzburg', 186], ['Munchen', 'Numberg', 167], ['Munchen', 'Augsburg', 84], ['Munchen', 'Kassel', 502], ['Numberg', 'Stuttgart', 183], ['Numberg', 'Wurzburg', 103], ['Numberg', 'Munchen', 167], ['Stuttgart', 'Numberg', 183], ['Augsburg', 'Munchen', 84], ['Augsburg', 'Karlsruhe', 250], ['Kassel', 'Munchen', 502], ['Kassel', 'Frankfurt', 173], ['Frankfurt', 'Mannheim', 85], ['Frankfurt', 'Wurzburg', 217], ['Frankfurt', 'Kassel', 173], ['Wurzburg', 'Numberg', 103], ['Wurzburg', 'Erfurt', 186], ['Wurzburg', 'Frankfurt', 217], ['Karlsruhe', 'Mannheim', 80], ['Karlsruhe', 'Augsburg', 250],[\"Mumbai\", \"Delhi\",400],[\"Delhi\", \"Kolkata\",500],[\"Kolkata\", \"Bangalore\",600],[\"TX\", \"NY\",1200],[\"ALB\", \"NY\",800]]\n"
   ]
  },
  {
   "cell_type": "code",
   "execution_count": 4,
   "metadata": {},
   "outputs": [],
   "source": [
    "g = nx.Graph()\n",
    "for edge in edgelist:\n",
    "    g.add_edge(edge[0],edge[1], weight = edge[2])"
   ]
  },
  {
   "cell_type": "code",
   "execution_count": 5,
   "metadata": {},
   "outputs": [
    {
     "name": "stdout",
     "output_type": "stream",
     "text": [
      "cc0: {'Stuttgart', 'Munchen', 'Frankfurt', 'Mannheim', 'Augsburg', 'Kassel', 'Erfurt', 'Numberg', 'Wurzburg', 'Karlsruhe'}\n",
      "cc1: {'Delhi', 'Mumbai', 'Bangalore', 'Kolkata'}\n",
      "cc2: {'ALB', 'NY', 'TX'}\n"
     ]
    }
   ],
   "source": [
    "for i, x in enumerate(nx.connected_components(g)):\n",
    "    print(\"cc\"+str(i)+\":\",x)"
   ]
  },
  {
   "cell_type": "markdown",
   "metadata": {},
   "source": [
    "__Shortest Path__"
   ]
  },
  {
   "cell_type": "code",
   "execution_count": 6,
   "metadata": {},
   "outputs": [
    {
     "name": "stdout",
     "output_type": "stream",
     "text": [
      "['Stuttgart', 'Numberg', 'Wurzburg', 'Frankfurt']\n",
      "503\n"
     ]
    }
   ],
   "source": [
    "# From our connected components, we can calculate the shortest path using the Dijkstra algorithm\n",
    "print(nx.shortest_path(g, 'Stuttgart','Frankfurt',weight='weight'))\n",
    "print(nx.shortest_path_length(g, 'Stuttgart','Frankfurt',weight='weight'))"
   ]
  },
  {
   "cell_type": "code",
   "execution_count": 7,
   "metadata": {},
   "outputs": [
    {
     "name": "stdout",
     "output_type": "stream",
     "text": [
      "('Mannheim', {'Mannheim': ['Mannheim'], 'Frankfurt': ['Mannheim', 'Frankfurt'], 'Karlsruhe': ['Mannheim', 'Karlsruhe'], 'Augsburg': ['Mannheim', 'Karlsruhe', 'Augsburg'], 'Kassel': ['Mannheim', 'Frankfurt', 'Kassel'], 'Wurzburg': ['Mannheim', 'Frankfurt', 'Wurzburg'], 'Munchen': ['Mannheim', 'Karlsruhe', 'Augsburg', 'Munchen'], 'Erfurt': ['Mannheim', 'Frankfurt', 'Wurzburg', 'Erfurt'], 'Numberg': ['Mannheim', 'Frankfurt', 'Wurzburg', 'Numberg'], 'Stuttgart': ['Mannheim', 'Frankfurt', 'Wurzburg', 'Numberg', 'Stuttgart']})\n",
      "('Frankfurt', {'Frankfurt': ['Frankfurt'], 'Mannheim': ['Frankfurt', 'Mannheim'], 'Kassel': ['Frankfurt', 'Kassel'], 'Wurzburg': ['Frankfurt', 'Wurzburg'], 'Karlsruhe': ['Frankfurt', 'Mannheim', 'Karlsruhe'], 'Augsburg': ['Frankfurt', 'Mannheim', 'Karlsruhe', 'Augsburg'], 'Munchen': ['Frankfurt', 'Wurzburg', 'Numberg', 'Munchen'], 'Erfurt': ['Frankfurt', 'Wurzburg', 'Erfurt'], 'Numberg': ['Frankfurt', 'Wurzburg', 'Numberg'], 'Stuttgart': ['Frankfurt', 'Wurzburg', 'Numberg', 'Stuttgart']})\n",
      "('Karlsruhe', {'Karlsruhe': ['Karlsruhe'], 'Mannheim': ['Karlsruhe', 'Mannheim'], 'Augsburg': ['Karlsruhe', 'Augsburg'], 'Frankfurt': ['Karlsruhe', 'Mannheim', 'Frankfurt'], 'Kassel': ['Karlsruhe', 'Mannheim', 'Frankfurt', 'Kassel'], 'Wurzburg': ['Karlsruhe', 'Mannheim', 'Frankfurt', 'Wurzburg'], 'Munchen': ['Karlsruhe', 'Augsburg', 'Munchen'], 'Numberg': ['Karlsruhe', 'Mannheim', 'Frankfurt', 'Wurzburg', 'Numberg'], 'Erfurt': ['Karlsruhe', 'Mannheim', 'Frankfurt', 'Wurzburg', 'Erfurt'], 'Stuttgart': ['Karlsruhe', 'Mannheim', 'Frankfurt', 'Wurzburg', 'Numberg', 'Stuttgart']})\n",
      "('Erfurt', {'Erfurt': ['Erfurt'], 'Wurzburg': ['Erfurt', 'Wurzburg'], 'Numberg': ['Erfurt', 'Wurzburg', 'Numberg'], 'Frankfurt': ['Erfurt', 'Wurzburg', 'Frankfurt'], 'Munchen': ['Erfurt', 'Wurzburg', 'Numberg', 'Munchen'], 'Stuttgart': ['Erfurt', 'Wurzburg', 'Numberg', 'Stuttgart'], 'Mannheim': ['Erfurt', 'Wurzburg', 'Frankfurt', 'Mannheim'], 'Kassel': ['Erfurt', 'Wurzburg', 'Frankfurt', 'Kassel'], 'Augsburg': ['Erfurt', 'Wurzburg', 'Numberg', 'Munchen', 'Augsburg'], 'Karlsruhe': ['Erfurt', 'Wurzburg', 'Frankfurt', 'Mannheim', 'Karlsruhe']})\n",
      "('Wurzburg', {'Wurzburg': ['Wurzburg'], 'Erfurt': ['Wurzburg', 'Erfurt'], 'Numberg': ['Wurzburg', 'Numberg'], 'Frankfurt': ['Wurzburg', 'Frankfurt'], 'Munchen': ['Wurzburg', 'Numberg', 'Munchen'], 'Stuttgart': ['Wurzburg', 'Numberg', 'Stuttgart'], 'Mannheim': ['Wurzburg', 'Frankfurt', 'Mannheim'], 'Kassel': ['Wurzburg', 'Frankfurt', 'Kassel'], 'Augsburg': ['Wurzburg', 'Numberg', 'Munchen', 'Augsburg'], 'Karlsruhe': ['Wurzburg', 'Frankfurt', 'Mannheim', 'Karlsruhe']})\n",
      "('Munchen', {'Munchen': ['Munchen'], 'Numberg': ['Munchen', 'Numberg'], 'Augsburg': ['Munchen', 'Augsburg'], 'Kassel': ['Munchen', 'Kassel'], 'Karlsruhe': ['Munchen', 'Augsburg', 'Karlsruhe'], 'Stuttgart': ['Munchen', 'Numberg', 'Stuttgart'], 'Wurzburg': ['Munchen', 'Numberg', 'Wurzburg'], 'Erfurt': ['Munchen', 'Numberg', 'Wurzburg', 'Erfurt'], 'Frankfurt': ['Munchen', 'Numberg', 'Wurzburg', 'Frankfurt'], 'Mannheim': ['Munchen', 'Augsburg', 'Karlsruhe', 'Mannheim']})\n",
      "('Numberg', {'Numberg': ['Numberg'], 'Munchen': ['Numberg', 'Munchen'], 'Stuttgart': ['Numberg', 'Stuttgart'], 'Wurzburg': ['Numberg', 'Wurzburg'], 'Erfurt': ['Numberg', 'Wurzburg', 'Erfurt'], 'Frankfurt': ['Numberg', 'Wurzburg', 'Frankfurt'], 'Augsburg': ['Numberg', 'Munchen', 'Augsburg'], 'Kassel': ['Numberg', 'Wurzburg', 'Frankfurt', 'Kassel'], 'Karlsruhe': ['Numberg', 'Wurzburg', 'Frankfurt', 'Mannheim', 'Karlsruhe'], 'Mannheim': ['Numberg', 'Wurzburg', 'Frankfurt', 'Mannheim']})\n",
      "('Augsburg', {'Augsburg': ['Augsburg'], 'Munchen': ['Augsburg', 'Munchen'], 'Karlsruhe': ['Augsburg', 'Karlsruhe'], 'Numberg': ['Augsburg', 'Munchen', 'Numberg'], 'Kassel': ['Augsburg', 'Munchen', 'Kassel'], 'Mannheim': ['Augsburg', 'Karlsruhe', 'Mannheim'], 'Stuttgart': ['Augsburg', 'Munchen', 'Numberg', 'Stuttgart'], 'Wurzburg': ['Augsburg', 'Munchen', 'Numberg', 'Wurzburg'], 'Frankfurt': ['Augsburg', 'Karlsruhe', 'Mannheim', 'Frankfurt'], 'Erfurt': ['Augsburg', 'Munchen', 'Numberg', 'Wurzburg', 'Erfurt']})\n",
      "('Kassel', {'Kassel': ['Kassel'], 'Munchen': ['Kassel', 'Munchen'], 'Frankfurt': ['Kassel', 'Frankfurt'], 'Mannheim': ['Kassel', 'Frankfurt', 'Mannheim'], 'Wurzburg': ['Kassel', 'Frankfurt', 'Wurzburg'], 'Karlsruhe': ['Kassel', 'Frankfurt', 'Mannheim', 'Karlsruhe'], 'Augsburg': ['Kassel', 'Munchen', 'Augsburg'], 'Erfurt': ['Kassel', 'Frankfurt', 'Wurzburg', 'Erfurt'], 'Numberg': ['Kassel', 'Frankfurt', 'Wurzburg', 'Numberg'], 'Stuttgart': ['Kassel', 'Frankfurt', 'Wurzburg', 'Numberg', 'Stuttgart']})\n",
      "('Stuttgart', {'Stuttgart': ['Stuttgart'], 'Numberg': ['Stuttgart', 'Numberg'], 'Munchen': ['Stuttgart', 'Numberg', 'Munchen'], 'Wurzburg': ['Stuttgart', 'Numberg', 'Wurzburg'], 'Erfurt': ['Stuttgart', 'Numberg', 'Wurzburg', 'Erfurt'], 'Frankfurt': ['Stuttgart', 'Numberg', 'Wurzburg', 'Frankfurt'], 'Augsburg': ['Stuttgart', 'Numberg', 'Munchen', 'Augsburg'], 'Kassel': ['Stuttgart', 'Numberg', 'Wurzburg', 'Frankfurt', 'Kassel'], 'Karlsruhe': ['Stuttgart', 'Numberg', 'Wurzburg', 'Frankfurt', 'Mannheim', 'Karlsruhe'], 'Mannheim': ['Stuttgart', 'Numberg', 'Wurzburg', 'Frankfurt', 'Mannheim']})\n",
      "('Mumbai', {'Mumbai': ['Mumbai'], 'Delhi': ['Mumbai', 'Delhi'], 'Kolkata': ['Mumbai', 'Delhi', 'Kolkata'], 'Bangalore': ['Mumbai', 'Delhi', 'Kolkata', 'Bangalore']})\n",
      "('Delhi', {'Delhi': ['Delhi'], 'Mumbai': ['Delhi', 'Mumbai'], 'Kolkata': ['Delhi', 'Kolkata'], 'Bangalore': ['Delhi', 'Kolkata', 'Bangalore']})\n",
      "('Kolkata', {'Kolkata': ['Kolkata'], 'Delhi': ['Kolkata', 'Delhi'], 'Bangalore': ['Kolkata', 'Bangalore'], 'Mumbai': ['Kolkata', 'Delhi', 'Mumbai']})\n",
      "('Bangalore', {'Bangalore': ['Bangalore'], 'Kolkata': ['Bangalore', 'Kolkata'], 'Delhi': ['Bangalore', 'Kolkata', 'Delhi'], 'Mumbai': ['Bangalore', 'Kolkata', 'Delhi', 'Mumbai']})\n",
      "('TX', {'TX': ['TX'], 'NY': ['TX', 'NY'], 'ALB': ['TX', 'NY', 'ALB']})\n",
      "('NY', {'NY': ['NY'], 'TX': ['NY', 'TX'], 'ALB': ['NY', 'ALB']})\n",
      "('ALB', {'ALB': ['ALB'], 'NY': ['ALB', 'NY'], 'TX': ['ALB', 'NY', 'TX']})\n"
     ]
    }
   ],
   "source": [
    "for x in nx.all_pairs_dijkstra_path(g,weight='weight'):\n",
    "    print(x)"
   ]
  },
  {
   "cell_type": "markdown",
   "metadata": {},
   "source": [
    "__Minimum Spanning Tree__"
   ]
  },
  {
   "cell_type": "code",
   "execution_count": 9,
   "metadata": {},
   "outputs": [
    {
     "data": {
      "image/png": "[encoded data removed]",
      "text/plain": [
       "<Figure size 432x288 with 1 Axes>"
      ]
     },
     "metadata": {},
     "output_type": "display_data"
    }
   ],
   "source": [
    "# It seves us to connect all the connected components using the minimum accumulated weight/distance\n",
    "# nx.minimum_spanning_tree(g) returns a instance of type graph\n",
    "nx.draw_networkx(nx.minimum_spanning_tree(g))"
   ]
  },
  {
   "cell_type": "markdown",
   "metadata": {},
   "source": [
    "__Pagerank__"
   ]
  },
  {
   "cell_type": "code",
   "execution_count": null,
   "metadata": {},
   "outputs": [],
   "source": [
    "# Pagerank can be used anywhere where we want to estimate node importance in any network "
   ]
  },
  {
   "cell_type": "code",
   "execution_count": 13,
   "metadata": {},
   "outputs": [],
   "source": [
    "# Example\n",
    "# reading the dataset\n",
    "fb = nx.read_edgelist('datasets/facebook-combined', create_using = nx.Graph(), nodetype = int)"
   ]
  },
  {
   "cell_type": "code",
   "execution_count": null,
   "metadata": {},
   "outputs": [],
   "source": [
    "pos = nx.spring_layout(fb)\n",
    "\n",
    "import warnings\n",
    "import matplotlib as plt\n",
    "warnings.filterwarnings('ignore')\n",
    "plt.style.use('fivethirtyeight')\n",
    "plt.rcParams['figure.figsize'] = (20, 15)\n",
    "plt.axis('off')\n",
    "nx.draw_networkx(fb, pos, with_labels = False, node_size = 35)\n",
    "plt.show()"
   ]
  },
  {
   "cell_type": "code",
   "execution_count": null,
   "metadata": {},
   "outputs": [],
   "source": [
    "pageranks = nx.pagerank(fb)\n",
    "print(pageranks)"
   ]
  },
  {
   "cell_type": "code",
   "execution_count": null,
   "metadata": {},
   "outputs": [],
   "source": [
    "import operator\n",
    "sorted_pagerank = sorted(pageranks.items(), key=operator.itemgetter(1),reverse = True)\n",
    "print(sorted_pagerank)"
   ]
  },
  {
   "cell_type": "code",
   "execution_count": null,
   "metadata": {},
   "outputs": [],
   "source": [
    "first_degree_connected_nodes = list(fb.neighbors(3437))\n",
    "second_degree_connected_nodes = []\n",
    "for x in first_degree_connected_nodes:\n",
    "    second_degree_connected_nodes+=list(fb.neighbors(x))\n",
    "second_degree_connected_nodes.remove(3437)\n",
    "second_degree_connected_nodes = list(set(second_degree_connected_nodes))\n",
    "subgraph_3437 = nx.subgraph(fb,first_degree_connected_nodes+second_degree_connected_nodes)\n",
    "pos = nx.spring_layout(subgraph_3437)\n",
    "node_color = ['yellow' if v == 3437 else 'red' for v in subgraph_3437]\n",
    "node_size =  [1000 if v == 3437 else 35 for v in subgraph_3437]\n",
    "plt.style.use('fivethirtyeight')\n",
    "plt.rcParams['figure.figsize'] = (20, 15)\n",
    "plt.axis('off')\n",
    "nx.draw_networkx(subgraph_3437, pos, with_labels = False, node_color=node_color,node_size=node_size )\n",
    "plt.show()"
   ]
  },
  {
   "cell_type": "markdown",
   "metadata": {},
   "source": [
    "__Centrality measures__"
   ]
  },
  {
   "cell_type": "code",
   "execution_count": null,
   "metadata": {},
   "outputs": [],
   "source": [
    "# Centrality measures can be used as features to our machine learning models. \n",
    "# A couple of examples of centrality measures:\n",
    "\n",
    "## Betweenness centrality quantifies how many times a particular node comes in the shortest chosen path between two other \n",
    "# nodes.\n",
    "\n",
    "## Degree centrality is simply the number of connections for a node.\n",
    "\n",
    "pos = nx.spring_layout(subgraph_3437)\n",
    "betweennessCentrality = nx.betweenness_centrality(subgraph_3437,normalized=True, endpoints=True)\n",
    "node_size =  [v * 10000 for v in betweennessCentrality.values()]\n",
    "plt.figure(figsize=(20,20))\n",
    "nx.draw_networkx(subgraph_3437, pos=pos, with_labels=False,\n",
    "                 node_size=node_size )\n",
    "plt.axis('off')"
   ]
  },
  {
   "cell_type": "code",
   "execution_count": null,
   "metadata": {},
   "outputs": [],
   "source": []
  }
 ],
 "metadata": {
  "kernelspec": {
   "display_name": "Python 3",
   "language": "python",
   "name": "python3"
  },
  "language_info": {
   "codemirror_mode": {
    "name": "ipython",
    "version": 3
   },
   "file_extension": ".py",
   "mimetype": "text/x-python",
   "name": "python",
   "nbconvert_exporter": "python",
   "pygments_lexer": "ipython3",
   "version": "3.7.3"
  }
 },
 "nbformat": 4,
 "nbformat_minor": 2
}
