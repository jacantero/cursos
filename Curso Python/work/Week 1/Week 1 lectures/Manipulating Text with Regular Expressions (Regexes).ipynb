{
 "cells": [
  {
   "cell_type": "code",
   "execution_count": null,
   "metadata": {},
   "outputs": [],
   "source": [
    "# Regexes are a foundational technique for data cleaning, \n",
    "# and you can think of them as patterns which you give to a regex processor with some source data"
   ]
  },
  {
   "cell_type": "code",
   "execution_count": 2,
   "metadata": {},
   "outputs": [],
   "source": [
    "import re"
   ]
  },
  {
   "cell_type": "code",
   "execution_count": 3,
   "metadata": {},
   "outputs": [
    {
     "name": "stdout",
     "output_type": "stream",
     "text": [
      "Wonderful!\n"
     ]
    }
   ],
   "source": [
    "# match() checks for a match that is at the beginning of the string and returns a boolean.\n",
    "# search() checks for a match anywhere in the string and returns a boolean.\n",
    "\n",
    "# Example\n",
    "text = \"This is a good day.\"\n",
    "\n",
    "if re.search(\"good\", text):\n",
    "    print(\"Wonderful!\")\n",
    "else:\n",
    "    print(\"Alas :(\")"
   ]
  },
  {
   "cell_type": "code",
   "execution_count": 4,
   "metadata": {},
   "outputs": [
    {
     "data": {
      "text/plain": [
       "['', ' works diligently. ', ' gets good grades. Our student ', ' is succesful']"
      ]
     },
     "execution_count": 4,
     "metadata": {},
     "output_type": "execute_result"
    }
   ],
   "source": [
    "# The findall and split() functions will parse the string for us and return chunks\n",
    "\n",
    "#Example\n",
    "text = \"Amy works diligently. Amy gets good grades. Our student Amy is succesful\"\n",
    "re.split(\"Amy\", text)"
   ]
  },
  {
   "cell_type": "code",
   "execution_count": 5,
   "metadata": {},
   "outputs": [
    {
     "data": {
      "text/plain": [
       "['Amy', 'Amy', 'Amy']"
      ]
     },
     "execution_count": 5,
     "metadata": {},
     "output_type": "execute_result"
    }
   ],
   "source": [
    "re.findall(\"Amy\", text)"
   ]
  },
  {
   "cell_type": "code",
   "execution_count": 6,
   "metadata": {},
   "outputs": [
    {
     "data": {
      "text/plain": [
       "<re.Match object; span=(0, 3), match='Amy'>"
      ]
     },
     "execution_count": 6,
     "metadata": {},
     "output_type": "execute_result"
    }
   ],
   "source": [
    "# The caret character ^ means start and the $ means end.\n",
    "\n",
    "# Example\n",
    "text = \"Amy works diligently. Amy gets good grades. Our student Amy is succesful\"\n",
    "re.search(\"^Amy\", text)\n",
    "\n",
    "# The search() function returns a Match object, which tells us what pattern was matched (\"Amy\") \n",
    "# and the location the match was in (span)"
   ]
  },
  {
   "cell_type": "markdown",
   "metadata": {},
   "source": [
    "# Patterns and Character Classes"
   ]
  },
  {
   "cell_type": "code",
   "execution_count": 7,
   "metadata": {},
   "outputs": [
    {
     "data": {
      "text/plain": [
       "['B', 'B', 'B']"
      ]
     },
     "execution_count": 7,
     "metadata": {},
     "output_type": "execute_result"
    }
   ],
   "source": [
    "grades = \"ACAAAABCBCBAA\"\n",
    "re.findall(\"B\", grades)"
   ]
  },
  {
   "cell_type": "code",
   "execution_count": 14,
   "metadata": {},
   "outputs": [
    {
     "name": "stdout",
     "output_type": "stream",
     "text": [
      "['A', 'A', 'A', 'A', 'A', 'B', 'B', 'B', 'A', 'A']\n",
      "['A', 'A', 'A', 'A', 'A', 'B', 'B', 'B', 'A', 'A']\n"
     ]
    }
   ],
   "source": [
    "# We can search for different elements by putting them all inside suare brackets (set operator).\n",
    "# The set operator always does a character-based matching.\n",
    "# Example: look for A or B\n",
    "print(re.findall (\"[AB]\", grades))\n",
    "# This is equivalent to use the or operator\n",
    "print(re.findall(\"A|B\", grades))"
   ]
  },
  {
   "cell_type": "code",
   "execution_count": 12,
   "metadata": {},
   "outputs": [
    {
     "data": {
      "text/plain": [
       "['AC', 'AB']"
      ]
     },
     "execution_count": 12,
     "metadata": {},
     "output_type": "execute_result"
    }
   ],
   "source": [
    "# You can also include a range of characters:\n",
    "# We can use [a-z] for lower letters\n",
    "# We can use [A-Z] for capital letters\n",
    "# We can use [\\w] to match any letter, including digits\n",
    "# We can use [\\d] for digits\n",
    "# We can use . for any single character which is not a newline\n",
    "# We can use [\\s] to match any whitespace character\n",
    "\n",
    "# Example: look for A followed by a B or a C\n",
    "re.findall(\"[A][B-C]\", grades)"
   ]
  },
  {
   "cell_type": "code",
   "execution_count": 13,
   "metadata": {},
   "outputs": [
    {
     "data": {
      "text/plain": [
       "['ABC']"
      ]
     },
     "execution_count": 13,
     "metadata": {},
     "output_type": "execute_result"
    }
   ],
   "source": [
    "# look for A followed by a B and a C\n",
    "re.findall(\"[A]BC\", grades)"
   ]
  },
  {
   "cell_type": "code",
   "execution_count": 15,
   "metadata": {},
   "outputs": [
    {
     "data": {
      "text/plain": [
       "['C', 'B', 'C', 'B', 'C', 'B']"
      ]
     },
     "execution_count": 15,
     "metadata": {},
     "output_type": "execute_result"
    }
   ],
   "source": [
    "# Square brackets with a ^ are equivalent to the NOT operator\n",
    "re.findall(\"[^A]\", grades)"
   ]
  },
  {
   "cell_type": "markdown",
   "metadata": {},
   "source": [
    "# Quantifiers"
   ]
  },
  {
   "cell_type": "code",
   "execution_count": 16,
   "metadata": {},
   "outputs": [
    {
     "data": {
      "text/plain": [
       "['AAAA', 'AA']"
      ]
     },
     "execution_count": 16,
     "metadata": {},
     "output_type": "execute_result"
    }
   ],
   "source": [
    "# Quantifiers ae the number of times you want a pattern to be matched in order to match. \n",
    "# The most basic quantifier has the form: character{minimum times, maximum times}. The default value is {1,1}\n",
    "# If we put just one number, it becomes both the maximum and minimum.\n",
    "### Note: If you have a space in between the braces, you will get an empty result ###\n",
    "\n",
    "# Example\n",
    "re.findall(\"A{2,10}\", grades)\n",
    "\n",
    "# In this example, we see that there are two streaks, one of four A's and another one of two A's"
   ]
  },
  {
   "cell_type": "code",
   "execution_count": 17,
   "metadata": {},
   "outputs": [
    {
     "data": {
      "text/plain": [
       "['AA', 'AA', 'AA']"
      ]
     },
     "execution_count": 17,
     "metadata": {},
     "output_type": "execute_result"
    }
   ],
   "source": [
    "# We look for two A's followed immediately by two more A's.\n",
    "re.findall(\"A{1,1}A{1,1}\", grades)"
   ]
  },
  {
   "cell_type": "code",
   "execution_count": null,
   "metadata": {},
   "outputs": [],
   "source": [
    "# There are three other quantifiers that are used as short hand:\n",
    "# An * to match 0 or more times\n",
    "# A ? to match 1 or more times\n",
    "# A + to match 1 or more times"
   ]
  },
  {
   "cell_type": "markdown",
   "metadata": {},
   "source": [
    "# Groups"
   ]
  },
  {
   "cell_type": "code",
   "execution_count": 20,
   "metadata": {},
   "outputs": [
    {
     "data": {
      "text/plain": [
       "[('A', 'C'), ('A', 'B')]"
      ]
     },
     "execution_count": 20,
     "metadata": {},
     "output_type": "execute_result"
    }
   ],
   "source": [
    "# Groups allow us to match different patterns at the same time. To group patterns together, we can use ()\n",
    "re.findall(\"([A])([B-C])\", grades)"
   ]
  },
  {
   "cell_type": "code",
   "execution_count": 27,
   "metadata": {},
   "outputs": [
    {
     "name": "stdout",
     "output_type": "stream",
     "text": [
      "AC\n",
      "A\n",
      "C\n",
      "AB\n",
      "A\n",
      "B\n"
     ]
    }
   ],
   "source": [
    "# As findall() returns strings and search() and match() return individual Match objects, \n",
    "# finditer() returns lists of Match Objects.\n",
    "for item in re.finditer(\"([A])([B-C])\", grades):\n",
    "    print(item.group(0))\n",
    "    print(item.group(1))\n",
    "    print(item.group(2))"
   ]
  },
  {
   "cell_type": "code",
   "execution_count": 34,
   "metadata": {},
   "outputs": [
    {
     "name": "stdout",
     "output_type": "stream",
     "text": [
      "C\n",
      "B\n"
     ]
    }
   ],
   "source": [
    "# We can also label each group and build a dictionary. For that e use the syntax(?P<name>)\n",
    "for item in re.finditer(\"(?P<first_grade>[A])(?P<second_grade>[B-C])\", grades):\n",
    "    print(item.groupdict()['second_grade'])"
   ]
  },
  {
   "cell_type": "markdown",
   "metadata": {},
   "source": [
    "# Look-ahead and Look-behind"
   ]
  },
  {
   "cell_type": "code",
   "execution_count": 35,
   "metadata": {},
   "outputs": [
    {
     "name": "stdout",
     "output_type": "stream",
     "text": [
      "<re.Match object; span=(0, 1), match='A'>\n",
      "<re.Match object; span=(5, 6), match='A'>\n"
     ]
    }
   ],
   "source": [
    "# We can look ahead of a determined element with the ?= syntax.\n",
    "for item in re.finditer(\"(?P<first_grade>[A])(?=[B-C])\", grades):\n",
    "    print(item)"
   ]
  },
  {
   "cell_type": "code",
   "execution_count": 41,
   "metadata": {},
   "outputs": [
    {
     "name": "stdout",
     "output_type": "stream",
     "text": [
      "<re.Match object; span=(0, 2), match='AC'>\n",
      "<re.Match object; span=(5, 7), match='AB'>\n"
     ]
    }
   ],
   "source": [
    "# We can look behind of a determined element with the =? syntax.\n",
    "for item in re.finditer(\"(?P<first_grade>[A])(=?[B-C])\", grades):\n",
    "    print(item)"
   ]
  },
  {
   "cell_type": "code",
   "execution_count": 38,
   "metadata": {},
   "outputs": [
    {
     "name": "stdout",
     "output_type": "stream",
     "text": [
      "<re.Match object; span=(0, 2), match='AC'>\n",
      "<re.Match object; span=(5, 7), match='AB'>\n"
     ]
    }
   ],
   "source": [
    "# We can use re.VERBOSE to make it easier to understand large regexes\n",
    "\n",
    "pattern=\"\"\"\n",
    "(?P<first_grade>[A])\n",
    "(?P<second_grade>[B-C])\"\"\"\n",
    "\n",
    "for item in re.finditer(pattern, grades, re.VERBOSE):\n",
    "    print(item)"
   ]
  },
  {
   "cell_type": "code",
   "execution_count": 96,
   "metadata": {},
   "outputs": [],
   "source": [
    "def URL_match(string):\n",
    "    print(re.findall(\"[\\w*].[^[^.][\\w*].*]*\", string))"
   ]
  },
  {
   "cell_type": "code",
   "execution_count": 98,
   "metadata": {},
   "outputs": [
    {
     "name": "stdout",
     "output_type": "stream",
     "text": [
      "[]\n"
     ]
    }
   ],
   "source": [
    "URL_match(\"abc..com\")"
   ]
  },
  {
   "cell_type": "code",
   "execution_count": null,
   "metadata": {},
   "outputs": [],
   "source": []
  }
 ],
 "metadata": {
  "kernelspec": {
   "display_name": "Python 3",
   "language": "python",
   "name": "python3"
  },
  "language_info": {
   "codemirror_mode": {
    "name": "ipython",
    "version": 3
   },
   "file_extension": ".py",
   "mimetype": "text/x-python",
   "name": "python",
   "nbconvert_exporter": "python",
   "pygments_lexer": "ipython3",
   "version": "3.7.3"
  }
 },
 "nbformat": 4,
 "nbformat_minor": 2
}
